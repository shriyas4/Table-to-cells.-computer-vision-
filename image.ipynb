{
 "cells": [
  {
   "cell_type": "code",
   "execution_count": 1,
   "id": "95bacc1f-1a30-4168-85fb-e7abcf904ed0",
   "metadata": {},
   "outputs": [
    {
     "name": "stdout",
     "output_type": "stream",
     "text": [
      "Requirement already satisfied: Pillow in c:\\users\\91963\\anaconda3\\lib\\site-packages (10.2.0)Note: you may need to restart the kernel to use updated packages.\n",
      "\n"
     ]
    }
   ],
   "source": [
    "pip install Pillow"
   ]
  },
  {
   "cell_type": "code",
   "execution_count": 2,
   "id": "77a1682a-7f80-4d6b-a89e-1fb1d21696c7",
   "metadata": {},
   "outputs": [],
   "source": [
    "from PIL import Image"
   ]
  },
  {
   "cell_type": "code",
   "execution_count": 10,
   "id": "2731e124-e61c-4123-98a7-c40f806e8411",
   "metadata": {},
   "outputs": [
    {
     "name": "stdout",
     "output_type": "stream",
     "text": [
      "image has been cropped\n"
     ]
    }
   ],
   "source": [
    "def crop_image_to_cells(image_path, output_folder, cell_width, cell_height, rows, cols):\n",
    "    image = Image.open(image_path)\n",
    "    img_width, img_height = image.size\n",
    "    for row in range(rows):\n",
    "        for col in range(cols):\n",
    "            left = col * cell_width\n",
    "            upper = row * cell_height\n",
    "            right = left + cell_width\n",
    "            lower = upper + cell_height\n",
    "            if right> img_width:\n",
    "                right = img_width\n",
    "            if lower> img_height:\n",
    "                lower = img_height\n",
    "            cell = image.crop((left, upper, right, lower))\n",
    "            cell.save(f\"{output_folder}/cell_{row}_{col}.png\")\n",
    "\n",
    "image_path = \"sample_image.png\"\n",
    "output_folder = \"output_cells\"\n",
    "cell_width = 100\n",
    "cell_height = 100\n",
    "rows = 10\n",
    "cols = 10\n",
    "\n",
    "import os\n",
    "if not os.path.exists(output_folder):\n",
    "    os.makedirs(output_folder)\n",
    "\n",
    "crop_image_to_cells(image_path, output_folder, cell_width, cell_height, rows, cols)\n",
    "\n",
    "print(\"image has been cropped\")"
   ]
  }
 ],
 "metadata": {
  "kernelspec": {
   "display_name": "Python 3 (ipykernel)",
   "language": "python",
   "name": "python3"
  },
  "language_info": {
   "codemirror_mode": {
    "name": "ipython",
    "version": 3
   },
   "file_extension": ".py",
   "mimetype": "text/x-python",
   "name": "python",
   "nbconvert_exporter": "python",
   "pygments_lexer": "ipython3",
   "version": "3.11.7"
  }
 },
 "nbformat": 4,
 "nbformat_minor": 5
}
